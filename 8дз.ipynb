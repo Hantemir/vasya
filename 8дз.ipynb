{
 "cells": [
  {
   "cell_type": "code",
   "execution_count": 1,
   "id": "6a6a02d7-4789-4efe-a55b-f4f50782a6c3",
   "metadata": {},
   "outputs": [
    {
     "name": "stdout",
     "output_type": "stream",
     "text": [
      "Requirement already satisfied: requests in d:\\anaconda\\lib\\site-packages (2.32.3)\n",
      "Requirement already satisfied: beautifulsoup4 in d:\\anaconda\\lib\\site-packages (4.12.3)\n",
      "Requirement already satisfied: charset-normalizer<4,>=2 in d:\\anaconda\\lib\\site-packages (from requests) (3.3.2)\n",
      "Requirement already satisfied: idna<4,>=2.5 in d:\\anaconda\\lib\\site-packages (from requests) (3.7)\n",
      "Requirement already satisfied: urllib3<3,>=1.21.1 in d:\\anaconda\\lib\\site-packages (from requests) (2.2.3)\n",
      "Requirement already satisfied: certifi>=2017.4.17 in d:\\anaconda\\lib\\site-packages (from requests) (2024.8.30)\n",
      "Requirement already satisfied: soupsieve>1.2 in d:\\anaconda\\lib\\site-packages (from beautifulsoup4) (2.5)\n",
      "Note: you may need to restart the kernel to use updated packages.\n"
     ]
    }
   ],
   "source": [
    "pip install requests beautifulsoup4"
   ]
  },
  {
   "cell_type": "code",
   "execution_count": 8,
   "id": "a931997d-efc9-44a3-bb55-533da1a284ff",
   "metadata": {},
   "outputs": [
    {
     "name": "stdout",
     "output_type": "stream",
     "text": [
      "Заголовки новостей:\n",
      "\n",
      "1. But what if I want a faster horse?\n",
      "2. exotext.com\n",
      "3. Live Map of the London Underground\n",
      "4. londonunderground.live\n",
      "5. Playing in the Creek\n",
      "6. lesswrong.com\n",
      "7. Strengths Are Your Weaknesses\n",
      "8. terriblesoftware.org\n",
      "9. We clone a running VM in 2 seconds\n",
      "10. codesandbox.io\n",
      "11. Show HN: Building better base images\n",
      "12. github.com/avkcode\n",
      "13. Why I Program in Lisp\n",
      "14. funcall.blogspot.com\n",
      "15. Pentagon to terminate $5.1B in IT contracts with Accenture, Deloitte\n",
      "16. reuters.com\n",
      "17. Roame (YC S23) Is Hiring: Founding Product Designer\n",
      "18. ycombinator.com\n",
      "19. Garfield Minus Garfield\n",
      "20. garfieldminusgarfield.net\n",
      "21. How to Make a Longbow\n",
      "22. howtomakealongbow.co.uk\n",
      "23. The Story Behind “100 Go Mistakes and How to Avoid Them”\n",
      "24. thecoder.cafe\n",
      "25. Default styles for h1 elements are changing\n",
      "26. developer.mozilla.org\n",
      "27. How a $2k 'Made in the USA' Phone Is Manufactured\n",
      "28. 404media.co\n",
      "29. Deno Under TinyKVM in Varnish\n",
      "30. varnish-software.com\n",
      "31. An unused nuclear power plant became home to a world-class acoustics lab\n",
      "32. theverge.com\n",
      "33. DDoS Mitigation Leak\n",
      "34. kentik.com\n",
      "35. My Own Private Binary: An Idiosyncratic Introduction to Linux Kernel Modules\n",
      "36. muppetlabs.com\n",
      "37. Remember FastCGI? (2021)\n",
      "38. brokenco.de\n",
      "39. Atari Missile Command Game Built Using AI Gemini 2.5 Pro\n",
      "40. centminmod.com\n",
      "41. A port of Mbed-TLS for the Classic Macintosh OS 7/8/9\n",
      "42. github.com/bbenchoff\n",
      "43. Show HN: Free TI-84 Plus Online (No Signup, Runs in Browser)\n",
      "44. ti84-online.com\n",
      "45. 3D Army Land Navigation Courses\n",
      "46. army.mil\n",
      "47. Nvidia on NixOS WSL – Ollama up 24/7 on your gaming PC\n",
      "48. yomaq.github.io\n",
      "49. Big Book of R\n",
      "50. bigbookofr.com\n",
      "51. Clojure: Realtime collaborative web apps without ClojureScript\n",
      "52. andersmurphy.com\n",
      "53. Gemini Live with camera and screen sharing capabilities\n",
      "54. blog.google\n",
      "55. 2025 AI Index Report\n",
      "56. stanford.edu\n",
      "57. Demystifying the (Shebang): Kernel Adventures\n",
      "58. crocidb.com\n",
      "59. Fintech founder charged with fraud; AI app found to be humans in the Philippines\n",
      "60. techcrunch.com\n"
     ]
    }
   ],
   "source": [
    "import requests\n",
    "from bs4 import BeautifulSoup\n",
    "\n",
    "# Указываем URL главной страницы сайта\n",
    "url = 'https://news.ycombinator.com/'\n",
    "\n",
    "# Получаем HTML-код страницы\n",
    "response = requests.get(url)\n",
    "html = response.text\n",
    "\n",
    "# Создаем объект BeautifulSoup для парсинга HTML\n",
    "soup = BeautifulSoup(html, 'html.parser')\n",
    "\n",
    "# Находим все заголовки новостей\n",
    "# На Hacker News они находятся в теге <a> с классом 'storylink' или 'titleline' (в зависимости от верстки)\n",
    "titles = soup.select('.titleline a')\n",
    "\n",
    "# Выводим заголовки\n",
    "print(\"Заголовки новостей:\\n\")\n",
    "for i, title in enumerate(titles, start=1):\n",
    "    print(f\"{i}. {title.get_text()}\")"
   ]
  },
  {
   "cell_type": "code",
   "execution_count": null,
   "id": "2c16a3f8-775b-4cf3-a5c9-713f68b19e46",
   "metadata": {},
   "outputs": [],
   "source": []
  }
 ],
 "metadata": {
  "kernelspec": {
   "display_name": "Python 3 (ipykernel)",
   "language": "python",
   "name": "python3"
  },
  "language_info": {
   "codemirror_mode": {
    "name": "ipython",
    "version": 3
   },
   "file_extension": ".py",
   "mimetype": "text/x-python",
   "name": "python",
   "nbconvert_exporter": "python",
   "pygments_lexer": "ipython3",
   "version": "3.12.7"
  }
 },
 "nbformat": 4,
 "nbformat_minor": 5
}
